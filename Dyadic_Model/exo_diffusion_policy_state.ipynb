{
 "cells": [
  {
   "cell_type": "code",
   "execution_count": 1,
   "metadata": {},
   "outputs": [
    {
     "name": "stdout",
     "output_type": "stream",
     "text": [
      "Python 3.10.12\n",
      "Requirement already satisfied: torch==1.13.1 in /home/abhi2001/SRA/venv/lib/python3.10/site-packages (1.13.1)\n",
      "Requirement already satisfied: torchvision==0.14.1 in /home/abhi2001/SRA/venv/lib/python3.10/site-packages (0.14.1)\n",
      "Requirement already satisfied: diffusers==0.18.2 in /home/abhi2001/SRA/venv/lib/python3.10/site-packages (0.18.2)\n",
      "Requirement already satisfied: scikit-image==0.19.3 in /home/abhi2001/SRA/venv/lib/python3.10/site-packages (0.19.3)\n",
      "Requirement already satisfied: scikit-video==1.1.11 in /home/abhi2001/SRA/venv/lib/python3.10/site-packages (1.1.11)\n",
      "Requirement already satisfied: zarr==2.12.0 in /home/abhi2001/SRA/venv/lib/python3.10/site-packages (2.12.0)\n",
      "Requirement already satisfied: numcodecs==0.10.2 in /home/abhi2001/SRA/venv/lib/python3.10/site-packages (0.10.2)\n",
      "Requirement already satisfied: pygame==2.1.2 in /home/abhi2001/SRA/venv/lib/python3.10/site-packages (2.1.2)\n",
      "Requirement already satisfied: pymunk==6.2.1 in /home/abhi2001/SRA/venv/lib/python3.10/site-packages (6.2.1)\n",
      "Requirement already satisfied: gym==0.26.2 in /home/abhi2001/SRA/venv/lib/python3.10/site-packages (0.26.2)\n",
      "Requirement already satisfied: shapely==1.8.4 in /home/abhi2001/SRA/venv/lib/python3.10/site-packages (1.8.4)\n",
      "Requirement already satisfied: nvidia-cudnn-cu11==8.5.0.96 in /home/abhi2001/SRA/venv/lib/python3.10/site-packages (from torch==1.13.1) (8.5.0.96)\n",
      "Requirement already satisfied: nvidia-cuda-runtime-cu11==11.7.99 in /home/abhi2001/SRA/venv/lib/python3.10/site-packages (from torch==1.13.1) (11.7.99)\n",
      "Requirement already satisfied: nvidia-cublas-cu11==11.10.3.66 in /home/abhi2001/SRA/venv/lib/python3.10/site-packages (from torch==1.13.1) (11.10.3.66)\n",
      "Requirement already satisfied: typing-extensions in /home/abhi2001/SRA/venv/lib/python3.10/site-packages (from torch==1.13.1) (4.12.2)\n",
      "Requirement already satisfied: nvidia-cuda-nvrtc-cu11==11.7.99 in /home/abhi2001/SRA/venv/lib/python3.10/site-packages (from torch==1.13.1) (11.7.99)\n",
      "Requirement already satisfied: requests in /home/abhi2001/SRA/venv/lib/python3.10/site-packages (from torchvision==0.14.1) (2.32.3)\n",
      "Requirement already satisfied: numpy in /home/abhi2001/SRA/venv/lib/python3.10/site-packages (from torchvision==0.14.1) (1.26.4)\n",
      "Requirement already satisfied: pillow!=8.3.*,>=5.3.0 in /home/abhi2001/SRA/venv/lib/python3.10/site-packages (from torchvision==0.14.1) (10.3.0)\n",
      "Requirement already satisfied: huggingface-hub>=0.13.2 in /home/abhi2001/SRA/venv/lib/python3.10/site-packages (from diffusers==0.18.2) (0.23.4)\n",
      "Requirement already satisfied: importlib-metadata in /home/abhi2001/SRA/venv/lib/python3.10/site-packages (from diffusers==0.18.2) (7.1.0)\n",
      "Requirement already satisfied: filelock in /home/abhi2001/SRA/venv/lib/python3.10/site-packages (from diffusers==0.18.2) (3.15.1)\n",
      "Requirement already satisfied: regex!=2019.12.17 in /home/abhi2001/SRA/venv/lib/python3.10/site-packages (from diffusers==0.18.2) (2024.5.15)\n",
      "Requirement already satisfied: networkx>=2.2 in /home/abhi2001/SRA/venv/lib/python3.10/site-packages (from scikit-image==0.19.3) (3.3)\n",
      "Requirement already satisfied: imageio>=2.4.1 in /home/abhi2001/SRA/venv/lib/python3.10/site-packages (from scikit-image==0.19.3) (2.34.1)\n",
      "Requirement already satisfied: scipy>=1.4.1 in /home/abhi2001/SRA/venv/lib/python3.10/site-packages (from scikit-image==0.19.3) (1.13.1)\n",
      "Requirement already satisfied: tifffile>=2019.7.26 in /home/abhi2001/SRA/venv/lib/python3.10/site-packages (from scikit-image==0.19.3) (2024.6.18)\n",
      "Requirement already satisfied: packaging>=20.0 in /home/abhi2001/SRA/venv/lib/python3.10/site-packages (from scikit-image==0.19.3) (24.1)\n",
      "Requirement already satisfied: PyWavelets>=1.1.1 in /home/abhi2001/SRA/venv/lib/python3.10/site-packages (from scikit-image==0.19.3) (1.6.0)\n",
      "Requirement already satisfied: asciitree in /home/abhi2001/SRA/venv/lib/python3.10/site-packages (from zarr==2.12.0) (0.3.3)\n",
      "Requirement already satisfied: fasteners in /home/abhi2001/SRA/venv/lib/python3.10/site-packages (from zarr==2.12.0) (0.19)\n",
      "Requirement already satisfied: entrypoints in /home/abhi2001/SRA/venv/lib/python3.10/site-packages (from numcodecs==0.10.2) (0.4)\n",
      "Requirement already satisfied: cffi>=1.15.0 in /home/abhi2001/SRA/venv/lib/python3.10/site-packages (from pymunk==6.2.1) (1.16.0)\n",
      "Requirement already satisfied: cloudpickle>=1.2.0 in /home/abhi2001/SRA/venv/lib/python3.10/site-packages (from gym==0.26.2) (3.0.0)\n",
      "Requirement already satisfied: gym-notices>=0.0.4 in /home/abhi2001/SRA/venv/lib/python3.10/site-packages (from gym==0.26.2) (0.0.8)\n",
      "Requirement already satisfied: setuptools in /home/abhi2001/SRA/venv/lib/python3.10/site-packages (from nvidia-cublas-cu11==11.10.3.66->torch==1.13.1) (59.6.0)\n",
      "Requirement already satisfied: wheel in /home/abhi2001/SRA/venv/lib/python3.10/site-packages (from nvidia-cublas-cu11==11.10.3.66->torch==1.13.1) (0.43.0)\n",
      "Requirement already satisfied: pycparser in /home/abhi2001/SRA/venv/lib/python3.10/site-packages (from cffi>=1.15.0->pymunk==6.2.1) (2.22)\n",
      "Requirement already satisfied: fsspec>=2023.5.0 in /home/abhi2001/SRA/venv/lib/python3.10/site-packages (from huggingface-hub>=0.13.2->diffusers==0.18.2) (2024.6.0)\n",
      "Requirement already satisfied: tqdm>=4.42.1 in /home/abhi2001/SRA/venv/lib/python3.10/site-packages (from huggingface-hub>=0.13.2->diffusers==0.18.2) (4.66.4)\n",
      "Requirement already satisfied: pyyaml>=5.1 in /home/abhi2001/SRA/venv/lib/python3.10/site-packages (from huggingface-hub>=0.13.2->diffusers==0.18.2) (6.0.1)\n",
      "Requirement already satisfied: zipp>=0.5 in /home/abhi2001/SRA/venv/lib/python3.10/site-packages (from importlib-metadata->diffusers==0.18.2) (3.19.2)\n",
      "Requirement already satisfied: idna<4,>=2.5 in /home/abhi2001/SRA/venv/lib/python3.10/site-packages (from requests->torchvision==0.14.1) (3.7)\n",
      "Requirement already satisfied: certifi>=2017.4.17 in /home/abhi2001/SRA/venv/lib/python3.10/site-packages (from requests->torchvision==0.14.1) (2024.6.2)\n",
      "Requirement already satisfied: charset-normalizer<4,>=2 in /home/abhi2001/SRA/venv/lib/python3.10/site-packages (from requests->torchvision==0.14.1) (3.3.2)\n",
      "Requirement already satisfied: urllib3<3,>=1.21.1 in /home/abhi2001/SRA/venv/lib/python3.10/site-packages (from requests->torchvision==0.14.1) (2.2.2)\n"
     ]
    }
   ],
   "source": [
    "#@markdown ### **Installing pip packages**\n",
    "#@markdown - Diffusion Model: [PyTorch](https://pytorch.org) & [HuggingFace diffusers](https://huggingface.co/docs/diffusers/index)\n",
    "#@markdown - Dataset Loading: [Zarr](https://zarr.readthedocs.io/en/stable/) & numcodecs\n",
    "#@markdown - Push-T Env: gym, pygame, pymunk & shapely\n",
    "!python --version\n",
    "!pip3 install torch==1.13.1 torchvision==0.14.1 diffusers==0.18.2 \\\n",
    "scikit-image==0.19.3 scikit-video==1.1.11 zarr==2.12.0 numcodecs==0.10.2 \\\n",
    "pygame==2.1.2 pymunk==6.2.1 gym==0.26.2 shapely==1.8.4 \\\n",
    "# &> /dev/null # mute output"
   ]
  }
 ],
 "metadata": {
  "kernelspec": {
   "display_name": "venv",
   "language": "python",
   "name": "python3"
  },
  "language_info": {
   "codemirror_mode": {
    "name": "ipython",
    "version": 3
   },
   "file_extension": ".py",
   "mimetype": "text/x-python",
   "name": "python",
   "nbconvert_exporter": "python",
   "pygments_lexer": "ipython3",
   "version": "3.10.12"
  }
 },
 "nbformat": 4,
 "nbformat_minor": 2
}
